{
 "cells": [
  {
   "cell_type": "markdown",
   "id": "92d4be05",
   "metadata": {},
   "source": [
    "# Analisis Exploratorio"
   ]
  },
  {
   "cell_type": "code",
   "execution_count": 2,
   "id": "1e1dac79",
   "metadata": {},
   "outputs": [],
   "source": [
    "import os\n",
    "import matplotlib.pyplot as plt\n",
    "import seaborn as sns\n",
    "import numpy as np\n",
    "from PIL import Image\n",
    "import cv2\n"
   ]
  },
  {
   "cell_type": "code",
   "execution_count": null,
   "id": "1c1673b7",
   "metadata": {},
   "outputs": [
    {
     "data": {
      "text/plain": [
       "['Diclofenaco_MK (otra copia).png',\n",
       " 'Diclofenaco_OPHARMA (copia).png',\n",
       " 'Diclofenaco_OPHARMA.png',\n",
       " 'Diclofenaco_MK (copia).png',\n",
       " 'Diclofenaco_Portugal (otra copia).png',\n",
       " 'Diclofenaco_Portugal.png',\n",
       " 'Diclofenaco_OPHARMA (otra copia).png',\n",
       " 'Ibuprofeno-Lacofa (copia).png',\n",
       " 'Diclofenaco_Portugal (copia).png',\n",
       " 'IBUPROFENO-LaSante (copia).png',\n",
       " 'Ibuprofeno_MK (otra copia).png',\n",
       " 'Ibuprofeno_MK (copia).png',\n",
       " 'Ibuprofeno_MK.png',\n",
       " 'IBUPROFENO-LaSante (otra copia).png',\n",
       " 'Ibuprofeno-Lacofa.png',\n",
       " 'IBUPROFENO-LaSante.png',\n",
       " 'acetaminofen500mg_Genfar_LOTE.png',\n",
       " 'acetaminofen500mg_Genfar_LOTE (Copiar).png',\n",
       " 'acetaminofen500mg_Genfar_LOTE (Copiar 2).png',\n",
       " 'Acetaminofen500mg_BPM_LOTE.png',\n",
       " 'Acetaminofen500mg_BPM_LOTE (Copiar).png',\n",
       " 'Acetaminofen500mg_BPM_LOTE (Copiar 2).png',\n",
       " 'AcetaminofenViaOral500mg_Genfar_LOTE.png',\n",
       " 'AcetaminofenViaOral500mg_Genfar_LOTE (Copiar).png',\n",
       " 'AcetaminofenViaOral500mg_Genfar_LOTE (Copiar 2).png',\n",
       " 'Acetaminofen500mg_MK_LOTE.png',\n",
       " 'Acetaminofen500mg_MK_LOTE (Copiar).png',\n",
       " 'Acetaminofen500mg_MK_LOTE (Copiar 2).png',\n",
       " 'Amoxicilina500mg_AG_LOTE.png',\n",
       " 'Amoxicilina500mg_AG_LOTE (Copiar).png',\n",
       " 'Amoxicilina500mg_AG_LOTE (Copiar 2).png',\n",
       " 'AmoxicilinaPolvo250mg_mk_LOTE.png',\n",
       " 'AmoxicilinaPolvo250mg_mk_LOTE (Copiar).png',\n",
       " 'AmoxicilinaPolvo250mg_mk_LOTE (Copiar 2).png',\n",
       " 'AMOXICILINAPolvo250MG_LaSante_LOTE.png',\n",
       " 'AMOXICILINAPolvo250MG_LaSante_LOTE (Copiar).png',\n",
       " 'AMOXICILINAPolvo250MG_LaSante_LOTE (Copiar 2).png',\n",
       " 'DiclofenacoViaOral50mg_Genfar_LOTE.png',\n",
       " 'DiclofenacoViaOral50mg_Genfar_LOTE (Copiar).png',\n",
       " 'DiclofenacoViaOral50mg_Genfar_LOTE (Copiar 2).png',\n",
       " 'Ibuprofeno100mg_Chile_LOTE.png',\n",
       " 'Ibuprofeno100mg_Chile_LOTE (Copiar).png',\n",
       " 'Ibuprofeno100mg_Chile_LOTE (Copiar 2).png',\n",
       " 'AmoxicilinaCapsula500mg_AG_LOTE.png',\n",
       " 'AmoxicilinaCapsula500mg_AG_LOTE (Copiar).png',\n",
       " 'AmoxicilinaCapsula500mg_AG_LOTE (Copiar 2).png',\n",
       " 'DiclofenacoTableta50mg_MK_LOTE.png',\n",
       " 'DiclofenacoTableta50mg_MK_LOTE (Copiar).png',\n",
       " 'DiclofenacoTableta50mg_MK_LOTE (Copiar 2).png',\n",
       " 'IbuprofenoViaOral600mg_K_LOTE.png',\n",
       " 'IbuprofenoViaOral600mg_K_LOTE (Copiar).png',\n",
       " 'IbuprofenoViaOral600mg_K_LOTE (Copiar 2).png',\n",
       " 'Paracetamol500mg_Accord_LOTE.png',\n",
       " 'Paracetamol500mg_Accord_LOTE (Copiar).png',\n",
       " 'Paracetamol500mg_Accord_LOTE (Copiar 2).png',\n",
       " 'ParacetamolTableta500mg_Ahorro_LOTE.png',\n",
       " 'ParacetamolTableta500mg_Ahorro_LOTE (Copiar).png',\n",
       " 'ParacetamolTableta500mg_Ahorro_LOTE (Copiar 2).png']"
      ]
     },
     "execution_count": 4,
     "metadata": {},
     "output_type": "execute_result"
    }
   ],
   "source": [
    "#base_path = r\"/home/SantiagoInge/Estudios/Especializacion/Monografia/MonografiaMedicamentos/BasesDeDatos/imagenes_transformadasPNG\"\n",
    "#classes = os.listdir(base_path)\n",
    "ejemplo = r'/home/SantiagoInge/Estudios/Especializacion/Monografia/MonografiaMedicamentos/AnalisisExploratorio/Acetaminofen500mg_BPM_LOTE.png'\n"
   ]
  },
  {
   "cell_type": "code",
   "execution_count": null,
   "id": "313017b7",
   "metadata": {},
   "outputs": [],
   "source": [
    "def resolution_size():\n",
    "    pass"
   ]
  }
 ],
 "metadata": {
  "kernelspec": {
   "display_name": ".ae",
   "language": "python",
   "name": "python3"
  },
  "language_info": {
   "codemirror_mode": {
    "name": "ipython",
    "version": 3
   },
   "file_extension": ".py",
   "mimetype": "text/x-python",
   "name": "python",
   "nbconvert_exporter": "python",
   "pygments_lexer": "ipython3",
   "version": "3.12.10"
  }
 },
 "nbformat": 4,
 "nbformat_minor": 5
}
