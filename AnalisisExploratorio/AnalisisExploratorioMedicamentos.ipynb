{
 "cells": [
  {
   "cell_type": "markdown",
   "id": "92d4be05",
   "metadata": {},
   "source": [
    "# Analisis Exploratorio"
   ]
  },
  {
   "cell_type": "code",
   "execution_count": null,
   "id": "29a152b2",
   "metadata": {},
   "outputs": [],
   "source": [
    "import cv2\n",
    "import os\n",
    "import numpy as np"
   ]
  },
  {
   "cell_type": "markdown",
   "id": "b3100906",
   "metadata": {},
   "source": [
    "## Promedio de la resolucion de mis imagenes"
   ]
  },
  {
   "cell_type": "code",
   "execution_count": null,
   "id": "1830eeb5",
   "metadata": {},
   "outputs": [
    {
     "name": "stderr",
     "output_type": "stream",
     "text": [
      "libpng warning: iCCP: known incorrect sRGB profile\n",
      "libpng warning: iCCP: known incorrect sRGB profile\n",
      "libpng warning: iCCP: known incorrect sRGB profile\n"
     ]
    },
    {
     "name": "stdout",
     "output_type": "stream",
     "text": [
      "Promedio de resolución: 1101.60 x 1023.07\n"
     ]
    }
   ],
   "source": [
    "# Ruta relativa a la carpeta de imágenes\n",
    "carpeta_imagenes = '/home/SantiagoInge/Estudios/Especializacion/Monografia/MonografiaMedicamentos/BasesDeDatos/imagenes_transformadasPNG'\n",
    "\n",
    "ancho_total = 0\n",
    "alto_total = 0\n",
    "num_imagenes = 0\n",
    "\n",
    "for archivo in os.listdir(carpeta_imagenes):\n",
    "    if archivo.lower().endswith(('.png', '.jpg', '.jpeg', '.bmp', '.tiff', '.webp')):\n",
    "        ruta_imagen = os.path.join(carpeta_imagenes, archivo)\n",
    "        img = cv2.imread(ruta_imagen)\n",
    "        if img is not None:\n",
    "            alto, ancho = img.shape[:2]\n",
    "            ancho_total += ancho\n",
    "            alto_total += alto\n",
    "            num_imagenes += 1\n",
    "\n",
    "if num_imagenes > 0:\n",
    "    promedio_ancho = ancho_total / num_imagenes\n",
    "    promedio_alto = alto_total / num_imagenes\n",
    "    print(f\"Promedio de resolución: {promedio_ancho:.2f} x {promedio_alto:.2f}\")\n",
    "else:\n",
    "    print(\"No se encontraron imágenes.\")\n"
   ]
  },
  {
   "cell_type": "markdown",
   "id": "75c01118",
   "metadata": {},
   "source": [
    "## Reducción de resolucion a 640×640, debido a que es la recomendada por YOLOv5"
   ]
  },
  {
   "cell_type": "code",
   "execution_count": null,
   "id": "445cadc0",
   "metadata": {},
   "outputs": [],
   "source": [
    "# Ruta a la carpeta de imágenes originales (relativa o absoluta)\n",
    "carpeta_entrada = '/home/SantiagoInge/Estudios/Especializacion/Monografia/MonografiaMedicamentos/BasesDeDatos/imagenes_transformadasPNG'\n",
    "# Ruta a la carpeta de salida redimensionadas (puede ser igual a la anterior si deseas sobrescribir)\n",
    "carpeta_salida = '/home/SantiagoInge/Estudios/Especializacion/Monografia/MonografiaMedicamentos/BasesDeDatos/imagenes_transformadasPNG_redimensionadas'\n",
    "\n",
    "# Crear carpeta de salida si no existe\n",
    "os.makedirs(carpeta_salida, exist_ok=True)\n",
    "\n",
    "# Dimensiones deseadas\n",
    "nuevo_ancho = 640\n",
    "nuevo_alto = 640\n",
    "\n",
    "for archivo in os.listdir(carpeta_entrada):\n",
    "    if archivo.lower().endswith(('.png', '.jpg', '.jpeg', '.bmp', '.tiff', '.webp')):\n",
    "        ruta_entrada = os.path.join(carpeta_entrada, archivo)\n",
    "        ruta_salida = os.path.join(carpeta_salida, archivo)\n",
    "\n",
    "        # Leer la imagen\n",
    "        img = cv2.imread(ruta_entrada)\n",
    "        if img is not None:\n",
    "            # Redimensionar a 640x640\n",
    "            img_redimensionada = cv2.resize(img, (nuevo_ancho, nuevo_alto), interpolation=cv2.INTER_AREA)\n",
    "            # Guardar la imagen redimensionada\n",
    "            cv2.imwrite(ruta_salida, img_redimensionada)\n",
    "            print(f\"Redimensionada: {archivo}\")\n",
    "        else:\n",
    "            print(f\"No se pudo leer: {archivo}\")"
   ]
  },
  {
   "cell_type": "code",
   "execution_count": null,
   "id": "0abb5fea",
   "metadata": {},
   "outputs": [
    {
     "data": {
      "text/plain": [
       "(640, 640, 3)"
      ]
     },
     "execution_count": 32,
     "metadata": {},
     "output_type": "execute_result"
    }
   ],
   "source": [
    "#img_prueba = cv2.imread('/home/SantiagoInge/Estudios/Especializacion/Monografia/MonografiaMedicamentos/BasesDeDatos/imagenes_transformadasPNG_redimensionadas/acetaminofen500mg_Genfar_LOTE.png')\n",
    "#img_prueba.shape"
   ]
  }
 ],
 "metadata": {
  "kernelspec": {
   "display_name": ".ae",
   "language": "python",
   "name": "python3"
  },
  "language_info": {
   "codemirror_mode": {
    "name": "ipython",
    "version": 3
   },
   "file_extension": ".py",
   "mimetype": "text/x-python",
   "name": "python",
   "nbconvert_exporter": "python",
   "pygments_lexer": "ipython3",
   "version": "3.12.10"
  }
 },
 "nbformat": 4,
 "nbformat_minor": 5
}
